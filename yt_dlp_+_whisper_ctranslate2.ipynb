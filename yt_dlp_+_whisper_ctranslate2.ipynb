{
  "cells": [
    {
      "cell_type": "markdown",
      "metadata": {
        "id": "view-in-github",
        "colab_type": "text"
      },
      "source": [
        "<a href=\"https://colab.research.google.com/github/ras0k/auto-lyrics/blob/main/yt_dlp_%2B_whisper_ctranslate2.ipynb\" target=\"_parent\"><img src=\"https://colab.research.google.com/assets/colab-badge.svg\" alt=\"Open In Colab\"/></a>"
      ]
    },
    {
      "cell_type": "markdown",
      "source": [
        "# **Faster-Whisper + yt-dlp**"
      ],
      "metadata": {
        "id": "urL_Cw5c4eMJ"
      }
    },
    {
      "cell_type": "markdown",
      "source": [
        "## benchmark :"
      ],
      "metadata": {
        "id": "9X9gCzc2w3gZ"
      }
    },
    {
      "cell_type": "markdown",
      "source": [
        " ### prep : 1m30s 1st time, 30s ensuite"
      ],
      "metadata": {
        "id": "VKLR7Ctmxjxt"
      }
    },
    {
      "cell_type": "code",
      "source": [
        "!pip install whisper-ctranslate2"
      ],
      "metadata": {
        "id": "MiLHH4V2fClU",
        "colab": {
          "base_uri": "https://localhost:8080/"
        },
        "outputId": "fb66c041-2d67-4238-c164-96b9898902b0"
      },
      "execution_count": null,
      "outputs": [
        {
          "output_type": "stream",
          "name": "stdout",
          "text": [
            "Looking in indexes: https://pypi.org/simple, https://us-python.pkg.dev/colab-wheels/public/simple/\n",
            "Collecting whisper-ctranslate2\n",
            "  Downloading whisper_ctranslate2-0.2.4-py3-none-any.whl (19 kB)\n",
            "Collecting sounddevice\n",
            "  Downloading sounddevice-0.4.6-py3-none-any.whl (31 kB)\n",
            "Collecting faster-whisper>=0.5.1\n",
            "  Downloading faster_whisper-0.5.1-py3-none-any.whl (1.5 MB)\n",
            "\u001b[2K     \u001b[90m━━━━━━━━━━━━━━━━━━━━━━━━━━━━━━━━━━━━━━━━\u001b[0m \u001b[32m1.5/1.5 MB\u001b[0m \u001b[31m38.4 MB/s\u001b[0m eta \u001b[36m0:00:00\u001b[0m\n",
            "\u001b[?25hRequirement already satisfied: numpy in /usr/local/lib/python3.10/dist-packages (from whisper-ctranslate2) (1.22.4)\n",
            "Requirement already satisfied: tqdm in /usr/local/lib/python3.10/dist-packages (from whisper-ctranslate2) (4.65.0)\n",
            "Collecting ctranslate2\n",
            "  Downloading ctranslate2-3.13.0-cp310-cp310-manylinux_2_17_x86_64.manylinux2014_x86_64.whl (32.0 MB)\n",
            "\u001b[2K     \u001b[90m━━━━━━━━━━━━━━━━━━━━━━━━━━━━━━━━━━━━━━━━\u001b[0m \u001b[32m32.0/32.0 MB\u001b[0m \u001b[31m51.1 MB/s\u001b[0m eta \u001b[36m0:00:00\u001b[0m\n",
            "\u001b[?25hCollecting huggingface-hub>=0.13\n",
            "  Downloading huggingface_hub-0.14.1-py3-none-any.whl (224 kB)\n",
            "\u001b[2K     \u001b[90m━━━━━━━━━━━━━━━━━━━━━━━━━━━━━━━━━━━━━━\u001b[0m \u001b[32m224.5/224.5 kB\u001b[0m \u001b[31m27.9 MB/s\u001b[0m eta \u001b[36m0:00:00\u001b[0m\n",
            "\u001b[?25hCollecting av==10.*\n",
            "  Downloading av-10.0.0-cp310-cp310-manylinux_2_17_x86_64.manylinux2014_x86_64.whl (31.0 MB)\n",
            "\u001b[2K     \u001b[90m━━━━━━━━━━━━━━━━━━━━━━━━━━━━━━━━━━━━━━━━\u001b[0m \u001b[32m31.0/31.0 MB\u001b[0m \u001b[31m51.7 MB/s\u001b[0m eta \u001b[36m0:00:00\u001b[0m\n",
            "\u001b[?25hCollecting onnxruntime==1.14.*\n",
            "  Downloading onnxruntime-1.14.1-cp310-cp310-manylinux_2_27_x86_64.whl (5.0 MB)\n",
            "\u001b[2K     \u001b[90m━━━━━━━━━━━━━━━━━━━━━━━━━━━━━━━━━━━━━━━━\u001b[0m \u001b[32m5.0/5.0 MB\u001b[0m \u001b[31m108.1 MB/s\u001b[0m eta \u001b[36m0:00:00\u001b[0m\n",
            "\u001b[?25hCollecting tokenizers==0.13.*\n",
            "  Downloading tokenizers-0.13.3-cp310-cp310-manylinux_2_17_x86_64.manylinux2014_x86_64.whl (7.8 MB)\n",
            "\u001b[2K     \u001b[90m━━━━━━━━━━━━━━━━━━━━━━━━━━━━━━━━━━━━━━━━\u001b[0m \u001b[32m7.8/7.8 MB\u001b[0m \u001b[31m117.9 MB/s\u001b[0m eta \u001b[36m0:00:00\u001b[0m\n",
            "\u001b[?25hRequirement already satisfied: packaging in /usr/local/lib/python3.10/dist-packages (from onnxruntime==1.14.*->faster-whisper>=0.5.1->whisper-ctranslate2) (23.1)\n",
            "Requirement already satisfied: protobuf in /usr/local/lib/python3.10/dist-packages (from onnxruntime==1.14.*->faster-whisper>=0.5.1->whisper-ctranslate2) (3.20.3)\n",
            "Requirement already satisfied: sympy in /usr/local/lib/python3.10/dist-packages (from onnxruntime==1.14.*->faster-whisper>=0.5.1->whisper-ctranslate2) (1.11.1)\n",
            "Collecting coloredlogs\n",
            "  Downloading coloredlogs-15.0.1-py2.py3-none-any.whl (46 kB)\n",
            "\u001b[2K     \u001b[90m━━━━━━━━━━━━━━━━━━━━━━━━━━━━━━━━━━━━━━━━\u001b[0m \u001b[32m46.0/46.0 kB\u001b[0m \u001b[31m6.4 MB/s\u001b[0m eta \u001b[36m0:00:00\u001b[0m\n",
            "\u001b[?25hRequirement already satisfied: flatbuffers in /usr/local/lib/python3.10/dist-packages (from onnxruntime==1.14.*->faster-whisper>=0.5.1->whisper-ctranslate2) (23.3.3)\n",
            "Requirement already satisfied: pyyaml<7,>=5.3 in /usr/local/lib/python3.10/dist-packages (from ctranslate2->whisper-ctranslate2) (6.0)\n",
            "Requirement already satisfied: CFFI>=1.0 in /usr/local/lib/python3.10/dist-packages (from sounddevice->whisper-ctranslate2) (1.15.1)\n",
            "Requirement already satisfied: pycparser in /usr/local/lib/python3.10/dist-packages (from CFFI>=1.0->sounddevice->whisper-ctranslate2) (2.21)\n",
            "Requirement already satisfied: typing-extensions>=3.7.4.3 in /usr/local/lib/python3.10/dist-packages (from huggingface-hub>=0.13->faster-whisper>=0.5.1->whisper-ctranslate2) (4.5.0)\n",
            "Requirement already satisfied: requests in /usr/local/lib/python3.10/dist-packages (from huggingface-hub>=0.13->faster-whisper>=0.5.1->whisper-ctranslate2) (2.27.1)\n",
            "Requirement already satisfied: filelock in /usr/local/lib/python3.10/dist-packages (from huggingface-hub>=0.13->faster-whisper>=0.5.1->whisper-ctranslate2) (3.12.0)\n",
            "Requirement already satisfied: fsspec in /usr/local/lib/python3.10/dist-packages (from huggingface-hub>=0.13->faster-whisper>=0.5.1->whisper-ctranslate2) (2023.4.0)\n",
            "Collecting humanfriendly>=9.1\n",
            "  Downloading humanfriendly-10.0-py2.py3-none-any.whl (86 kB)\n",
            "\u001b[2K     \u001b[90m━━━━━━━━━━━━━━━━━━━━━━━━━━━━━━━━━━━━━━━━\u001b[0m \u001b[32m86.8/86.8 kB\u001b[0m \u001b[31m11.8 MB/s\u001b[0m eta \u001b[36m0:00:00\u001b[0m\n",
            "\u001b[?25hRequirement already satisfied: urllib3<1.27,>=1.21.1 in /usr/local/lib/python3.10/dist-packages (from requests->huggingface-hub>=0.13->faster-whisper>=0.5.1->whisper-ctranslate2) (1.26.15)\n",
            "Requirement already satisfied: certifi>=2017.4.17 in /usr/local/lib/python3.10/dist-packages (from requests->huggingface-hub>=0.13->faster-whisper>=0.5.1->whisper-ctranslate2) (2022.12.7)\n",
            "Requirement already satisfied: idna<4,>=2.5 in /usr/local/lib/python3.10/dist-packages (from requests->huggingface-hub>=0.13->faster-whisper>=0.5.1->whisper-ctranslate2) (3.4)\n",
            "Requirement already satisfied: charset-normalizer~=2.0.0 in /usr/local/lib/python3.10/dist-packages (from requests->huggingface-hub>=0.13->faster-whisper>=0.5.1->whisper-ctranslate2) (2.0.12)\n",
            "Requirement already satisfied: mpmath>=0.19 in /usr/local/lib/python3.10/dist-packages (from sympy->onnxruntime==1.14.*->faster-whisper>=0.5.1->whisper-ctranslate2) (1.3.0)\n",
            "Installing collected packages: tokenizers, av, humanfriendly, ctranslate2, sounddevice, huggingface-hub, coloredlogs, onnxruntime, faster-whisper, whisper-ctranslate2\n",
            "Successfully installed av-10.0.0 coloredlogs-15.0.1 ctranslate2-3.13.0 faster-whisper-0.5.1 huggingface-hub-0.14.1 humanfriendly-10.0 onnxruntime-1.14.1 sounddevice-0.4.6 tokenizers-0.13.3 whisper-ctranslate2-0.2.4\n"
          ]
        }
      ]
    },
    {
      "cell_type": "code",
      "source": [
        "!pip install yt-dlp"
      ],
      "metadata": {
        "id": "kg5NqdloKMim",
        "colab": {
          "base_uri": "https://localhost:8080/"
        },
        "outputId": "0b096efa-31b0-4b8f-b4cb-d77b6ebbb289"
      },
      "execution_count": null,
      "outputs": [
        {
          "output_type": "stream",
          "name": "stdout",
          "text": [
            "Looking in indexes: https://pypi.org/simple, https://us-python.pkg.dev/colab-wheels/public/simple/\n",
            "Collecting yt-dlp\n",
            "  Downloading yt_dlp-2023.3.4-py2.py3-none-any.whl (2.9 MB)\n",
            "\u001b[2K     \u001b[90m━━━━━━━━━━━━━━━━━━━━━━━━━━━━━━━━━━━━━━━━\u001b[0m \u001b[32m2.9/2.9 MB\u001b[0m \u001b[31m68.5 MB/s\u001b[0m eta \u001b[36m0:00:00\u001b[0m\n",
            "\u001b[?25hCollecting websockets\n",
            "  Downloading websockets-11.0.2-cp310-cp310-manylinux_2_5_x86_64.manylinux1_x86_64.manylinux_2_17_x86_64.manylinux2014_x86_64.whl (129 kB)\n",
            "\u001b[2K     \u001b[90m━━━━━━━━━━━━━━━━━━━━━━━━━━━━━━━━━━━━━━\u001b[0m \u001b[32m129.9/129.9 kB\u001b[0m \u001b[31m17.3 MB/s\u001b[0m eta \u001b[36m0:00:00\u001b[0m\n",
            "\u001b[?25hRequirement already satisfied: certifi in /usr/local/lib/python3.10/dist-packages (from yt-dlp) (2022.12.7)\n",
            "Collecting pycryptodomex\n",
            "  Downloading pycryptodomex-3.17-cp35-abi3-manylinux_2_17_x86_64.manylinux2014_x86_64.whl (2.1 MB)\n",
            "\u001b[2K     \u001b[90m━━━━━━━━━━━━━━━━━━━━━━━━━━━━━━━━━━━━━━━━\u001b[0m \u001b[32m2.1/2.1 MB\u001b[0m \u001b[31m14.6 MB/s\u001b[0m eta \u001b[36m0:00:00\u001b[0m\n",
            "\u001b[?25hCollecting brotli\n",
            "  Downloading Brotli-1.0.9-cp310-cp310-manylinux_2_5_x86_64.manylinux1_x86_64.manylinux_2_12_x86_64.manylinux2010_x86_64.whl (2.7 MB)\n",
            "\u001b[2K     \u001b[90m━━━━━━━━━━━━━━━━━━━━━━━━━━━━━━━━━━━━━━━━\u001b[0m \u001b[32m2.7/2.7 MB\u001b[0m \u001b[31m82.5 MB/s\u001b[0m eta \u001b[36m0:00:00\u001b[0m\n",
            "\u001b[?25hCollecting mutagen\n",
            "  Downloading mutagen-1.46.0-py3-none-any.whl (193 kB)\n",
            "\u001b[2K     \u001b[90m━━━━━━━━━━━━━━━━━━━━━━━━━━━━━━━━━━━━━━\u001b[0m \u001b[32m193.6/193.6 kB\u001b[0m \u001b[31m24.2 MB/s\u001b[0m eta \u001b[36m0:00:00\u001b[0m\n",
            "\u001b[?25hInstalling collected packages: brotli, websockets, pycryptodomex, mutagen, yt-dlp\n",
            "Successfully installed brotli-1.0.9 mutagen-1.46.0 pycryptodomex-3.17 websockets-11.0.2 yt-dlp-2023.3.4\n"
          ]
        }
      ]
    },
    {
      "cell_type": "markdown",
      "source": [
        "### yt-dlp : instant"
      ],
      "metadata": {
        "id": "YAGID6uqxNZp"
      }
    },
    {
      "cell_type": "code",
      "source": [
        "!yt-dlp -x -o audio --force-overwrites https://www.youtube.com/watch?v=hbf2NZE478c\n"
      ],
      "metadata": {
        "id": "IkCg_UEZfT1a",
        "colab": {
          "base_uri": "https://localhost:8080/"
        },
        "outputId": "e5881da8-03b9-43b3-a53b-4265cc4db7a9"
      },
      "execution_count": null,
      "outputs": [
        {
          "output_type": "stream",
          "name": "stdout",
          "text": [
            "[youtube] Extracting URL: https://www.youtube.com/watch?v=hbf2NZE478c\n",
            "[youtube] hbf2NZE478c: Downloading webpage\n",
            "[youtube] hbf2NZE478c: Downloading android player API JSON\n",
            "[youtube] hbf2NZE478c: Downloading player 50cf60f0\n",
            "[info] hbf2NZE478c: Downloading 1 format(s): 251\n",
            "[dashsegments] Total fragments: 1\n",
            "[download] Destination: audio\n",
            "\u001b[K[download] 100% of    2.85MiB in \u001b[1;37m00:00:00\u001b[0m at \u001b[0;32m36.35MiB/s\u001b[0m\n",
            "[ExtractAudio] Destination: audio.opus\n",
            "Deleting original file audio (pass -k to keep)\n"
          ]
        }
      ]
    },
    {
      "cell_type": "markdown",
      "source": [
        "### Faster-whisper : 30s à 300s selon la durée du vidéo et le hardware."
      ],
      "metadata": {
        "id": "LfBHelysxQ9z"
      }
    },
    {
      "cell_type": "markdown",
      "source": [
        "V4 = free GPU"
      ],
      "metadata": {
        "id": "3RI8vaQrxwhO"
      }
    },
    {
      "cell_type": "markdown",
      "source": [
        "A100 = fastest GPU (5¢ par minute)"
      ],
      "metadata": {
        "id": "R8GPLhjcxyQw"
      }
    },
    {
      "cell_type": "code",
      "source": [
        "!whisper-ctranslate2 audio.opus --print_colors True --model large-v2 --vad_filter True"
      ],
      "metadata": {
        "id": "wTZTjKDDfZGZ",
        "colab": {
          "base_uri": "https://localhost:8080/"
        },
        "outputId": "27d3c9db-c471-47b3-b17a-79d8b6593d50"
      },
      "execution_count": null,
      "outputs": [
        {
          "output_type": "stream",
          "name": "stdout",
          "text": [
            "Detecting language using up to the first 30 seconds. Use `--language` to specify the language\n",
            "Print colors requires word-level time stamps. Generated files in output directory will have word-level timestamps\n",
            "Detected language 'French' with probability 0.854492\n",
            "[01:12.330 --> 01:17.510] \u001b[38;5;196m Un\u001b[0m\u001b[38;5;196m sens\u001b[0m\u001b[38;5;226m unique,\u001b[0m\u001b[38;5;202m pour\u001b[0m\u001b[38;5;190m le\u001b[0m\u001b[38;5;154m damier\u001b[0m\u001b[38;5;202m devant,\u001b[0m\u001b[38;5;208m comme\u001b[0m\u001b[38;5;118m d\u001b[0m\u001b[38;5;154m'hab,\u001b[0m\u001b[38;5;190m la\u001b[0m\u001b[38;5;154m radio\u001b[0m\u001b[38;5;226m joue\u001b[0m\u001b[38;5;208m un\u001b[0m\u001b[38;5;214m petit\u001b[0m\u001b[38;5;208m rien\u001b[0m\u001b[38;5;154m de\u001b[0m\u001b[38;5;220m fab\u001b[0m\n",
            "[01:17.510 --> 01:23.070] \u001b[38;5;202m autour\u001b[0m\u001b[38;5;82m d\u001b[0m\u001b[38;5;82m'un\u001b[0m\u001b[38;5;208m mou\u001b[0m\u001b[38;5;196m qui\u001b[0m\u001b[38;5;208m s\u001b[0m\u001b[38;5;154m'unit,\u001b[0m\u001b[38;5;196m je\u001b[0m\u001b[38;5;226m voulais\u001b[0m\u001b[38;5;190m dire\u001b[0m\u001b[38;5;190m s\u001b[0m\u001b[38;5;118m'unit,\u001b[0m\u001b[38;5;226m le\u001b[0m\u001b[38;5;226m cercle\u001b[0m\u001b[38;5;190m des\u001b[0m\u001b[38;5;190m sages\u001b[0m\u001b[38;5;202m poètes\u001b[0m\u001b[38;5;118m s\u001b[0m\u001b[38;5;118m'élargit,\u001b[0m\n",
            "[01:23.290 --> 01:28.510] \u001b[38;5;196m c\u001b[0m\u001b[38;5;118m'est\u001b[0m\u001b[38;5;196m les\u001b[0m\u001b[38;5;196m O\u001b[0m\u001b[38;5;226m.L\u001b[0m\u001b[38;5;214m.A.\u001b[0m\u001b[38;5;214m le\u001b[0m\u001b[38;5;196m solare\u001b[0m\u001b[38;5;190m à\u001b[0m\u001b[38;5;226m son\u001b[0m\u001b[38;5;154m zénith,\u001b[0m\u001b[38;5;190m le\u001b[0m\u001b[38;5;214m boum\u001b[0m\u001b[38;5;190m de\u001b[0m\u001b[38;5;190m la\u001b[0m\u001b[38;5;208m basse\u001b[0m\u001b[38;5;208m se\u001b[0m\u001b[38;5;190m balade\u001b[0m\u001b[38;5;190m sur\u001b[0m\u001b[38;5;190m le\u001b[0m\u001b[38;5;226m beat,\u001b[0m\n",
            "[01:28.730 --> 01:33.130] \u001b[38;5;220m maintenir\u001b[0m\u001b[38;5;220m la\u001b[0m\u001b[38;5;214m tribu\u001b[0m\u001b[38;5;220m dans\u001b[0m\u001b[38;5;82m l\u001b[0m\u001b[38;5;226m'alliance\u001b[0m\u001b[38;5;226m ethnique,\u001b[0m\u001b[38;5;220m telle\u001b[0m\u001b[38;5;226m est\u001b[0m\u001b[38;5;190m la\u001b[0m\u001b[38;5;154m tâche\u001b[0m\u001b[38;5;220m dont\u001b[0m\u001b[38;5;226m doit\u001b[0m\u001b[38;5;208m s\u001b[0m\u001b[38;5;154m'acquitter\u001b[0m\n",
            "[01:33.130 --> 01:38.270] \u001b[38;5;196m toute\u001b[0m\u001b[38;5;154m ma\u001b[0m\u001b[38;5;118m clique,\u001b[0m\u001b[38;5;202m j\u001b[0m\u001b[38;5;154m'injecte\u001b[0m\u001b[38;5;190m le\u001b[0m\u001b[38;5;190m venin\u001b[0m\u001b[38;5;214m et\u001b[0m\u001b[38;5;226m repars,\u001b[0m\u001b[38;5;196m dada,\u001b[0m\u001b[38;5;190m rapide\u001b[0m\u001b[38;5;214m comme\u001b[0m\u001b[38;5;226m une\u001b[0m\u001b[38;5;220m abeille\u001b[0m\u001b[38;5;196m se\u001b[0m\u001b[38;5;202m servant\u001b[0m\n",
            "[01:38.270 --> 01:43.290] \u001b[38;5;154m de\u001b[0m\u001b[38;5;190m son\u001b[0m\u001b[38;5;196m z\u001b[0m\u001b[38;5;202m'dadane,\u001b[0m\u001b[38;5;208m repense\u001b[0m\u001b[38;5;220m au\u001b[0m\u001b[38;5;190m temps\u001b[0m\u001b[38;5;214m où\u001b[0m\u001b[38;5;226m il\u001b[0m\u001b[38;5;82m s\u001b[0m\u001b[38;5;190m'accommoda,\u001b[0m\u001b[38;5;190m avec\u001b[0m\u001b[38;5;154m le\u001b[0m\u001b[38;5;220m son\u001b[0m\u001b[38;5;208m qui\u001b[0m\u001b[38;5;196m ne\u001b[0m\u001b[38;5;226m tarda\u001b[0m\u001b[38;5;190m pas\u001b[0m\n",
            "[01:43.290 --> 01:49.870] \u001b[38;5;190m à\u001b[0m\u001b[38;5;226m devenir\u001b[0m\u001b[38;5;154m son\u001b[0m\u001b[38;5;226m dada,\u001b[0m\u001b[38;5;202m haha,\u001b[0m\u001b[38;5;196m et\u001b[0m\u001b[38;5;226m v\u001b[0m\u001b[38;5;220m'la\u001b[0m\u001b[38;5;220m que\u001b[0m\u001b[38;5;196m démocrate\u001b[0m\u001b[38;5;214m rapplique,\u001b[0m\u001b[38;5;220m libéré\u001b[0m\u001b[38;5;226m par\u001b[0m\u001b[38;5;196m John\u001b[0m\u001b[38;5;196m Sick\u001b[0m\u001b[38;5;208m et\u001b[0m\u001b[38;5;220m logistique,\u001b[0m\n",
            "[01:50.150 --> 01:55.390] \u001b[38;5;82m c\u001b[0m\u001b[38;5;118m'est\u001b[0m\u001b[38;5;190m un\u001b[0m\u001b[38;5;190m coup\u001b[0m\u001b[38;5;154m d\u001b[0m\u001b[38;5;214m'état\u001b[0m\u001b[38;5;208m phonique,\u001b[0m\u001b[38;5;190m je\u001b[0m\u001b[38;5;226m touche\u001b[0m\u001b[38;5;214m et\u001b[0m\u001b[38;5;190m coule,\u001b[0m\u001b[38;5;190m inspiré\u001b[0m\u001b[38;5;190m par\u001b[0m\u001b[38;5;154m ma\u001b[0m\u001b[38;5;226m positive\u001b[0m\u001b[38;5;220m blague,\u001b[0m\n",
            "[01:55.630 --> 01:59.370] \u001b[38;5;196m soul\u001b[0m\u001b[38;5;196m c\u001b[0m\u001b[38;5;118m'est\u001b[0m\u001b[38;5;208m succinct,\u001b[0m\u001b[38;5;196m mes\u001b[0m\u001b[38;5;202m clairs\u001b[0m\u001b[38;5;196m au\u001b[0m\u001b[38;5;202m casse\u001b[0m\u001b[38;5;202m et\u001b[0m\u001b[38;5;190m là\u001b[0m\u001b[38;5;226m j\u001b[0m\u001b[38;5;82m'ai\u001b[0m\u001b[38;5;154m déjà\u001b[0m\u001b[38;5;220m fait\u001b[0m\u001b[38;5;196m taillement,\u001b[0m\u001b[38;5;220m pleine\u001b[0m\n",
            "[01:59.370 --> 02:10.930] \u001b[38;5;196m de\u001b[0m\u001b[38;5;196m forme,\u001b[0m\u001b[38;5;118m j\u001b[0m\u001b[38;5;82m'ai\u001b[0m\u001b[38;5;214m envie\u001b[0m\u001b[38;5;154m de\u001b[0m\u001b[38;5;220m faire\u001b[0m\u001b[38;5;154m la\u001b[0m\u001b[38;5;220m fête,\u001b[0m\u001b[38;5;196m la\u001b[0m\u001b[38;5;220m la\u001b[0m\u001b[38;5;154m la,\u001b[0m\u001b[38;5;196m 95,\u001b[0m\u001b[38;5;226m le\u001b[0m\u001b[38;5;214m yakuza\u001b[0m\u001b[38;5;208m fait\u001b[0m\u001b[38;5;190m la\u001b[0m\u001b[38;5;208m razzia,\u001b[0m\u001b[38;5;190m repart\u001b[0m\n",
            "[02:10.930 --> 02:22.570] \u001b[38;5;154m tranquillement\u001b[0m\u001b[38;5;208m à\u001b[0m\u001b[38;5;154m la\u001b[0m\u001b[38;5;220m casa,\u001b[0m\u001b[38;5;190m les\u001b[0m\u001b[38;5;220m ambiances,\u001b[0m\u001b[38;5;214m les\u001b[0m\u001b[38;5;154m blues\u001b[0m\u001b[38;5;220m sont\u001b[0m\u001b[38;5;190m là,\u001b[0m\u001b[38;5;196m osmos\u001b[0m\u001b[38;5;196m est\u001b[0m\u001b[38;5;154m là,\u001b[0m\u001b[38;5;208m ménélique\u001b[0m\n",
            "[02:22.570 --> 02:28.790] \u001b[38;5;196m et\u001b[0m\u001b[38;5;220m la\u001b[0m\u001b[38;5;226m tribu\u001b[0m\u001b[38;5;220m sont\u001b[0m\u001b[38;5;154m là,\u001b[0m\u001b[38;5;220m et\u001b[0m\u001b[38;5;190m le\u001b[0m\u001b[38;5;196m dame\u001b[0m\u001b[38;5;220m est\u001b[0m\u001b[38;5;154m en\u001b[0m\u001b[38;5;190m pleine\u001b[0m\u001b[38;5;202m épée,\u001b[0m\u001b[38;5;226m toujours\u001b[0m\u001b[38;5;214m prête.\u001b[0m\n",
            "Transcription results written to '/content' directory\n"
          ]
        }
      ]
    }
  ],
  "metadata": {
    "colab": {
      "provenance": [],
      "gpuType": "A100",
      "include_colab_link": true
    },
    "kernelspec": {
      "display_name": "Python 3",
      "name": "python3"
    },
    "gpuClass": "standard",
    "accelerator": "GPU"
  },
  "nbformat": 4,
  "nbformat_minor": 0
}