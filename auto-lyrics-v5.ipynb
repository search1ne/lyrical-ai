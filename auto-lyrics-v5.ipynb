{
  "cells": [
    {
      "cell_type": "markdown",
      "source": [],
      "metadata": {
        "id": "urL_Cw5c4eMJ"
      }
    },
    {
      "cell_type": "code",
      "source": [
        "!pip install whisper-ctranslate2\n",
        "!pip install yt-dlp"
      ],
      "metadata": {
        "id": "MiLHH4V2fClU"
      },
      "execution_count": null,
      "outputs": []
    },
    {
      "cell_type": "code",
      "source": [
        "!yt-dlp -x -o audio --force-overwrites youtube.com/watch?v=s6K6tROGi04"
      ],
      "metadata": {
        "id": "IkCg_UEZfT1a"
      },
      "execution_count": null,
      "outputs": []
    },
    {
      "cell_type": "code",
      "source": [
        "!whisper-ctranslate2 audio.opus --print_colors True --model large-v2 --vad_filter True"
      ],
      "metadata": {
        "id": "wTZTjKDDfZGZ"
      },
      "execution_count": null,
      "outputs": []
    },
    {
      "cell_type": "markdown",
      "source": [
        "Align and Optimize Subtitle"
      ],
      "metadata": {
        "id": "4Vt0jOPlRgsB"
      }
    },
    {
      "cell_type": "code",
      "source": [],
      "metadata": {
        "id": "V7UZf2XpqkKj"
      },
      "execution_count": null,
      "outputs": []
    }
  ],
  "metadata": {
    "colab": {
      "provenance": [
        {
          "file_id": "/v2/external/notebooks/intro.ipynb",
          "timestamp": 1681252922899
        }
      ],
      "private_outputs": true
    },
    "kernelspec": {
      "display_name": "Python 3",
      "name": "python3"
    },
    "gpuClass": "standard",
    "accelerator": "GPU"
  },
  "nbformat": 4,
  "nbformat_minor": 0
}
